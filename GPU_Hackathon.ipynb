{
  "nbformat": 4,
  "nbformat_minor": 0,
  "metadata": {
    "orig_nbformat": 4,
    "language_info": {
      "name": "python",
      "version": "3.8.8",
      "mimetype": "text/x-python",
      "codemirror_mode": {
        "name": "ipython",
        "version": 3
      },
      "pygments_lexer": "ipython3",
      "nbconvert_exporter": "python",
      "file_extension": ".py"
    },
    "kernelspec": {
      "name": "python3",
      "display_name": "Python 3.8.8 64-bit ('virtual_workspace': conda)"
    },
    "interpreter": {
      "hash": "73a86270b8b621c2980a1786016347cc960a3b54d65141cb18af8634b57bf74c"
    },
    "colab": {
      "name": "GPU Hackathon.ipynb",
      "provenance": []
    },
    "accelerator": "GPU"
  },
  "cells": [
    {
      "cell_type": "markdown",
      "metadata": {
        "id": "RFKABQWGsbXr"
      },
      "source": [
        "# CNN based Image Classification of Hindi characters\n",
        "\n",
        "---\n",
        "<a href=\"https://githubtocolab.com/Hello-Peter-GPU-Hackathon/CNN-Image-Classification/blob/main/GPU_Hackathon.ipynb\" target=\"_parent\"><img src=\"https://colab.research.google.com/assets/colab-badge.svg\" alt=\"Open in Colab\"/></a>"
      ]
    },
    {
      "cell_type": "markdown",
      "metadata": {
        "id": "nh408j6qswER"
      },
      "source": [
        "###Importing the necessary packages and libraries"
      ]
    },
    {
      "cell_type": "code",
      "metadata": {
        "id": "jZp9rvyK8B4c"
      },
      "source": [
        "import tensorflow as tf\n",
        "import matplotlib.pyplot as plt\n",
        "import cv2\n",
        "import os\n",
        "import numpy as np\n",
        "from tensorflow.keras.preprocessing.image import ImageDataGenerator\n",
        "from tensorflow.keras.preprocessing import image"
      ],
      "execution_count": 1,
      "outputs": []
    },
    {
      "cell_type": "markdown",
      "metadata": {
        "id": "4z4F9xi8s5DB"
      },
      "source": [
        "### Unzip the training data and load it."
      ]
    },
    {
      "cell_type": "code",
      "metadata": {
        "id": "rAcoUTyY8B4f"
      },
      "source": [
        "!unzip training.zip\n",
        "img = image.load_img(\"training/background/displayPanel_0_flip_sharpen_d3.jpg\")"
      ],
      "execution_count": null,
      "outputs": []
    },
    {
      "cell_type": "markdown",
      "metadata": {
        "id": "lOWC5w5mtSnj"
      },
      "source": [
        "###Display an image from the training dataset to perceive that the dataset is successfully loaded."
      ]
    },
    {
      "cell_type": "code",
      "metadata": {
        "id": "UDREa0zV8B4g",
        "colab": {
          "base_uri": "https://localhost:8080/",
          "height": 285
        },
        "outputId": "dba44d24-43e1-4e0e-a5b4-a8b0c6f83a26"
      },
      "source": [
        "plt.imshow(img)"
      ],
      "execution_count": 3,
      "outputs": [
        {
          "output_type": "execute_result",
          "data": {
            "text/plain": [
              "<matplotlib.image.AxesImage at 0x7f63170d9e90>"
            ]
          },
          "metadata": {},
          "execution_count": 3
        },
        {
          "output_type": "display_data",
          "data": {
            "image/png": "[encoded data removed]",
            "text/plain": [
              "<Figure size 432x288 with 1 Axes>"
            ]
          },
          "metadata": {
            "needs_background": "light"
          }
        }
      ]
    },
    {
      "cell_type": "markdown",
      "metadata": {
        "id": "7rkdPJ9stwnr"
      },
      "source": [
        "### Finding the general shape of the images in the dataset."
      ]
    },
    {
      "cell_type": "code",
      "metadata": {
        "id": "IbG_0Q0r8B4h",
        "colab": {
          "base_uri": "https://localhost:8080/"
        },
        "outputId": "e6bb8ac5-8954-4e77-f8c3-150da2d9d5ce"
      },
      "source": [
        "cv2.imread(\"training/background/displayPanel_0_flip_sharpen_d3.jpg\").shape"
      ],
      "execution_count": 4,
      "outputs": [
        {
          "output_type": "execute_result",
          "data": {
            "text/plain": [
              "(64, 64, 3)"
            ]
          },
          "metadata": {},
          "execution_count": 4
        }
      ]
    },
    {
      "cell_type": "code",
      "metadata": {
        "id": "au3N_Non8B4i"
      },
      "source": [
        "train = ImageDataGenerator(rescale=1/255, shear_range=0.25, zoom_range=0.25, horizontal_flip=True)\n",
        "validation = ImageDataGenerator(rescale=1/255)"
      ],
      "execution_count": 5,
      "outputs": []
    },
    {
      "cell_type": "markdown",
      "metadata": {
        "id": "91BoCdp8t5XQ"
      },
      "source": [
        "### Load the training data on train_data."
      ]
    },
    {
      "cell_type": "code",
      "metadata": {
        "id": "beSZfbl68B4i",
        "colab": {
          "base_uri": "https://localhost:8080/"
        },
        "outputId": "4aa524e3-d637-446c-dfb6-c57bfd276c9d"
      },
      "source": [
        "train_data = train.flow_from_directory(\"training/\",target_size=(64, 64), batch_size=32, class_mode='binary')"
      ],
      "execution_count": 6,
      "outputs": [
        {
          "output_type": "stream",
          "name": "stdout",
          "text": [
            "Found 5875 images belonging to 2 classes.\n"
          ]
        }
      ]
    },
    {
      "cell_type": "markdown",
      "metadata": {
        "id": "9oZEFeDhuMuE"
      },
      "source": [
        "### Load the validation data on validation_data. Here train_data is same as validation_data."
      ]
    },
    {
      "cell_type": "code",
      "metadata": {
        "id": "J0z7M-0K8B4j",
        "colab": {
          "base_uri": "https://localhost:8080/"
        },
        "outputId": "543fe5d2-2338-44f5-b39e-ac2d4705c5ad"
      },
      "source": [
        "validation_data = train.flow_from_directory(\"training/\",target_size=(64, 64), batch_size=32, class_mode='binary')"
      ],
      "execution_count": 7,
      "outputs": [
        {
          "output_type": "stream",
          "name": "stdout",
          "text": [
            "Found 5875 images belonging to 2 classes.\n"
          ]
        }
      ]
    },
    {
      "cell_type": "markdown",
      "metadata": {
        "id": "1AC-NVxiuXmR"
      },
      "source": [
        "### Find the shape of an image of validation_data."
      ]
    },
    {
      "cell_type": "code",
      "metadata": {
        "id": "vX9PM2nw8B4k",
        "colab": {
          "base_uri": "https://localhost:8080/"
        },
        "outputId": "270b19cc-d35d-43ac-9776-1856c6e6c9f7"
      },
      "source": [
        "validation_data.image_shape"
      ],
      "execution_count": 8,
      "outputs": [
        {
          "output_type": "execute_result",
          "data": {
            "text/plain": [
              "(64, 64, 3)"
            ]
          },
          "metadata": {},
          "execution_count": 8
        }
      ]
    },
    {
      "cell_type": "markdown",
      "metadata": {
        "id": "VllKNO_Nuf_l"
      },
      "source": [
        "### Get the classes of the images. Here there are two classes - 0 and 1."
      ]
    },
    {
      "cell_type": "code",
      "metadata": {
        "id": "ttavkMNb8B4l",
        "colab": {
          "base_uri": "https://localhost:8080/"
        },
        "outputId": "288df987-dbc7-4c7b-cb29-3097d89d8e1c"
      },
      "source": [
        "train_data.class_indices"
      ],
      "execution_count": 9,
      "outputs": [
        {
          "output_type": "execute_result",
          "data": {
            "text/plain": [
              "{'background': 0, 'hi': 1}"
            ]
          },
          "metadata": {},
          "execution_count": 9
        }
      ]
    },
    {
      "cell_type": "code",
      "metadata": {
        "id": "jZI8ZGud8B4m",
        "colab": {
          "base_uri": "https://localhost:8080/"
        },
        "outputId": "c7eaa1d2-f70a-4bef-9728-9c444e300cec"
      },
      "source": [
        "train_data.classes"
      ],
      "execution_count": 10,
      "outputs": [
        {
          "output_type": "execute_result",
          "data": {
            "text/plain": [
              "array([0, 0, 0, ..., 1, 1, 1], dtype=int32)"
            ]
          },
          "metadata": {},
          "execution_count": 10
        }
      ]
    },
    {
      "cell_type": "markdown",
      "metadata": {
        "id": "XIFnnK9Vun2T"
      },
      "source": [
        "### Make the model as well as compile and fit it."
      ]
    },
    {
      "cell_type": "code",
      "metadata": {
        "id": "3pVrRatn8B4n"
      },
      "source": [
        "model = tf.keras.models.Sequential([\n",
        "    tf.keras.layers.Conv2D(32,(3,3), activation='relu', input_shape = (64, 64, 3)), \n",
        "    tf.keras.layers.MaxPool2D(2,2),\n",
        "    tf.keras.layers.Conv2D(32, (3,3), activation='relu'),\n",
        "    tf.keras.layers.MaxPool2D(2,2),\n",
        "    tf.keras.layers.Conv2D(32, (3,3), activation='relu'),\n",
        "    tf.keras.layers.MaxPool2D(2,2),\n",
        "    tf.keras.layers.Flatten(),\n",
        "    tf.keras.layers.Dense(64, activation='relu'),\n",
        "    tf.keras.layers.Dense(1, activation='sigmoid')\n",
        "    ])"
      ],
      "execution_count": 11,
      "outputs": []
    },
    {
      "cell_type": "code",
      "metadata": {
        "id": "_go3rGWw8B4n",
        "colab": {
          "base_uri": "https://localhost:8080/"
        },
        "outputId": "44ec9b2a-e5ff-48a6-fc2f-3cc608de22d2"
      },
      "source": [
        "model.summary()"
      ],
      "execution_count": 12,
      "outputs": [
        {
          "output_type": "stream",
          "name": "stdout",
          "text": [
            "Model: \"sequential\"\n",
            "_________________________________________________________________\n",
            "Layer (type)                 Output Shape              Param #   \n",
            "=================================================================\n",
            "conv2d (Conv2D)              (None, 62, 62, 32)        896       \n",
            "_________________________________________________________________\n",
            "max_pooling2d (MaxPooling2D) (None, 31, 31, 32)        0         \n",
            "_________________________________________________________________\n",
            "conv2d_1 (Conv2D)            (None, 29, 29, 32)        9248      \n",
            "_________________________________________________________________\n",
            "max_pooling2d_1 (MaxPooling2 (None, 14, 14, 32)        0         \n",
            "_________________________________________________________________\n",
            "conv2d_2 (Conv2D)            (None, 12, 12, 32)        9248      \n",
            "_________________________________________________________________\n",
            "max_pooling2d_2 (MaxPooling2 (None, 6, 6, 32)          0         \n",
            "_________________________________________________________________\n",
            "flatten (Flatten)            (None, 1152)              0         \n",
            "_________________________________________________________________\n",
            "dense (Dense)                (None, 64)                73792     \n",
            "_________________________________________________________________\n",
            "dense_1 (Dense)              (None, 1)                 65        \n",
            "=================================================================\n",
            "Total params: 93,249\n",
            "Trainable params: 93,249\n",
            "Non-trainable params: 0\n",
            "_________________________________________________________________\n"
          ]
        }
      ]
    },
    {
      "cell_type": "code",
      "metadata": {
        "id": "S3b75dCS8B4o"
      },
      "source": [
        "model.compile(loss = 'binary_crossentropy',\n",
        "optimizer='rmsprop', metrics=['accuracy'])"
      ],
      "execution_count": 13,
      "outputs": []
    },
    {
      "cell_type": "code",
      "metadata": {
        "id": "6Ms3Qmq18B4o",
        "colab": {
          "base_uri": "https://localhost:8080/"
        },
        "outputId": "47499bb3-fba2-4bc8-cb4b-f2dc0a407a08"
      },
      "source": [
        "history = model.fit(train_data, epochs=15, steps_per_epoch=100, validation_data=validation_data)"
      ],
      "execution_count": 14,
      "outputs": [
        {
          "output_type": "stream",
          "name": "stdout",
          "text": [
            "Epoch 1/15\n",
            "100/100 [==============================] - 44s 161ms/step - loss: 0.5462 - accuracy: 0.7563 - val_loss: 0.4749 - val_accuracy: 0.8071\n",
            "Epoch 2/15\n",
            "100/100 [==============================] - 16s 158ms/step - loss: 0.3651 - accuracy: 0.8516 - val_loss: 0.3942 - val_accuracy: 0.8143\n",
            "Epoch 3/15\n",
            "100/100 [==============================] - 16s 158ms/step - loss: 0.2687 - accuracy: 0.8974 - val_loss: 0.2655 - val_accuracy: 0.9030\n",
            "Epoch 4/15\n",
            "100/100 [==============================] - 16s 158ms/step - loss: 0.2427 - accuracy: 0.9128 - val_loss: 0.2548 - val_accuracy: 0.9054\n",
            "Epoch 5/15\n",
            "100/100 [==============================] - 16s 161ms/step - loss: 0.2050 - accuracy: 0.9209 - val_loss: 0.3031 - val_accuracy: 0.8972\n",
            "Epoch 6/15\n",
            "100/100 [==============================] - 16s 160ms/step - loss: 0.1837 - accuracy: 0.9356 - val_loss: 0.3136 - val_accuracy: 0.8890\n",
            "Epoch 7/15\n",
            "100/100 [==============================] - 16s 161ms/step - loss: 0.1729 - accuracy: 0.9341 - val_loss: 0.1357 - val_accuracy: 0.9474\n",
            "Epoch 8/15\n",
            "100/100 [==============================] - 16s 160ms/step - loss: 0.1589 - accuracy: 0.9388 - val_loss: 0.1663 - val_accuracy: 0.9338\n",
            "Epoch 9/15\n",
            "100/100 [==============================] - 16s 158ms/step - loss: 0.1473 - accuracy: 0.9467 - val_loss: 0.1936 - val_accuracy: 0.9411\n",
            "Epoch 10/15\n",
            "100/100 [==============================] - 16s 158ms/step - loss: 0.1437 - accuracy: 0.9470 - val_loss: 0.1053 - val_accuracy: 0.9685\n",
            "Epoch 11/15\n",
            "100/100 [==============================] - 16s 159ms/step - loss: 0.1156 - accuracy: 0.9541 - val_loss: 0.1727 - val_accuracy: 0.9377\n",
            "Epoch 12/15\n",
            "100/100 [==============================] - 16s 157ms/step - loss: 0.1216 - accuracy: 0.9547 - val_loss: 0.0971 - val_accuracy: 0.9680\n",
            "Epoch 13/15\n",
            "100/100 [==============================] - 16s 158ms/step - loss: 0.1144 - accuracy: 0.9553 - val_loss: 0.1024 - val_accuracy: 0.9598\n",
            "Epoch 14/15\n",
            "100/100 [==============================] - 16s 158ms/step - loss: 0.1057 - accuracy: 0.9649 - val_loss: 0.0975 - val_accuracy: 0.9590\n",
            "Epoch 15/15\n",
            "100/100 [==============================] - 16s 157ms/step - loss: 0.0954 - accuracy: 0.9664 - val_loss: 0.0834 - val_accuracy: 0.9656\n"
          ]
        }
      ]
    },
    {
      "cell_type": "code",
      "metadata": {
        "id": "ovbKNCiQ8B4p",
        "colab": {
          "base_uri": "https://localhost:8080/"
        },
        "outputId": "a07a2b28-9218-468a-f820-f5b24a883f4e"
      },
      "source": [
        "history"
      ],
      "execution_count": 15,
      "outputs": [
        {
          "output_type": "execute_result",
          "data": {
            "text/plain": [
              "<keras.callbacks.History at 0x7f631706ae10>"
            ]
          },
          "metadata": {},
          "execution_count": 15
        }
      ]
    },
    {
      "cell_type": "code",
      "metadata": {
        "colab": {
          "base_uri": "https://localhost:8080/",
          "height": 279
        },
        "id": "n_kOR4nO4kj5",
        "outputId": "f555e9aa-ecbf-4f48-9832-5b4a17ed0d03"
      },
      "source": [
        "#Loss function\n",
        "import pandas as pd\n",
        "import matplotlib.pyplot as plt\n",
        "pd.Series(history.history['loss']).plot(logy=True)\n",
        "plt.xlabel(\"Epoch\")\n",
        "plt.ylabel(\"Training Error\")\n",
        "plt.savefig('books_read.png')"
      ],
      "execution_count": 16,
      "outputs": [
        {
          "output_type": "display_data",
          "data": {
            "image/png": "[encoded data removed]",
            "text/plain": [
              "<Figure size 432x288 with 1 Axes>"
            ]
          },
          "metadata": {
            "needs_background": "light"
          }
        }
      ]
    },
    {
      "cell_type": "code",
      "metadata": {
        "colab": {
          "base_uri": "https://localhost:8080/",
          "height": 953
        },
        "id": "aHV6EQOt34B2",
        "outputId": "444a27a5-76a0-4193-cabc-a03aec4f9efb"
      },
      "source": [
        "#Our CNN model\n",
        "from keras.utils.vis_utils import plot_model\n",
        "tf.keras.utils.plot_model(\n",
        "    model, show_shapes=False, show_layer_names=True,\n",
        "    rankdir='TB', expand_nested=False, dpi=96\n",
        ")"
      ],
      "execution_count": 17,
      "outputs": [
        {
          "output_type": "execute_result",
          "data": {
            "image/png": "[encoded data removed]",
            "text/plain": [
              "<IPython.core.display.Image object>"
            ]
          },
          "metadata": {},
          "execution_count": 17
        }
      ]
    },
    {
      "cell_type": "code",
      "metadata": {
        "id": "tIoM_qiz8B4p"
      },
      "source": [
        "model.save('hindi_cnn_model_1.h5')"
      ],
      "execution_count": 18,
      "outputs": []
    },
    {
      "cell_type": "markdown",
      "metadata": {
        "id": "rJNj1yIuuzIT"
      },
      "source": [
        "### Unzip the test dataset and load it. Use the fitted model to predict for an image in the test dataset."
      ]
    },
    {
      "cell_type": "code",
      "metadata": {
        "id": "MLvqRq0d8B4p"
      },
      "source": [
        "!unzip test.zip\n",
        "test_img = image.load_img('test/90.jpg', target_size=(64,64))"
      ],
      "execution_count": null,
      "outputs": []
    },
    {
      "cell_type": "code",
      "metadata": {
        "id": "8VynieCb8B4q"
      },
      "source": [
        "test_img = image.img_to_array(test_img)"
      ],
      "execution_count": 20,
      "outputs": []
    },
    {
      "cell_type": "code",
      "metadata": {
        "id": "KAJJ1otP8B4q"
      },
      "source": [
        "test_img = np.expand_dims(test_img, axis=0)"
      ],
      "execution_count": 21,
      "outputs": []
    },
    {
      "cell_type": "code",
      "metadata": {
        "id": "ZZz7mqN28B4q"
      },
      "source": [
        "verdict = model.predict(test_img)"
      ],
      "execution_count": 22,
      "outputs": []
    },
    {
      "cell_type": "code",
      "metadata": {
        "id": "tH4Xb7Uf8B4q",
        "colab": {
          "base_uri": "https://localhost:8080/"
        },
        "outputId": "1379b315-c835-4f3f-b282-2bd1d2deb4ba"
      },
      "source": [
        "verdict[0][0]"
      ],
      "execution_count": 23,
      "outputs": [
        {
          "output_type": "execute_result",
          "data": {
            "text/plain": [
              "1.0"
            ]
          },
          "metadata": {},
          "execution_count": 23
        }
      ]
    },
    {
      "cell_type": "markdown",
      "metadata": {
        "id": "X_-tts5TvHKM"
      },
      "source": [
        "### Save all the predicted data results in a result.json file."
      ]
    },
    {
      "cell_type": "code",
      "metadata": {
        "id": "TVspfkAk8B4r"
      },
      "source": [
        "import random\n",
        "import json\n",
        "# from utils.io import write_json\n",
        "\n",
        "def write_json(filename, result):\n",
        "    with open(filename, 'w') as outfile:\n",
        "        json.dump(result, outfile)\n",
        "\n",
        "def read_json(filename):\n",
        "    with open(filename, 'r') as outfile:\n",
        "        data =  json.load(outfile)\n",
        "    return data\n",
        "\n",
        "def generate_sample_file(filename):\n",
        "    res = {}\n",
        "    for i in range(1,99):\n",
        "        \n",
        "        test_set = str(i) + '.jpg'\n",
        "        test_path = 'test/' + test_set\n",
        "        test_img = image.load_img(test_path, target_size=(64,64))\n",
        "        test_img = image.img_to_array(test_img)\n",
        "        test_img = np.expand_dims(test_img, axis=0)\n",
        "        res[test_set] = int(model.predict(test_img)[0][0])\n",
        "\n",
        "    write_json(filename, res)\n",
        "\n",
        "if __name__ == '__main__':\n",
        "    generate_sample_file('./result.json')"
      ],
      "execution_count": 24,
      "outputs": []
    }
  ]
}